{
 "cells": [
  {
   "cell_type": "code",
   "execution_count": null,
   "metadata": {},
   "outputs": [
    {
     "data": {
      "text/html": [
       "<div>\n",
       "<style scoped>\n",
       "    .dataframe tbody tr th:only-of-type {\n",
       "        vertical-align: middle;\n",
       "    }\n",
       "\n",
       "    .dataframe tbody tr th {\n",
       "        vertical-align: top;\n",
       "    }\n",
       "\n",
       "    .dataframe thead th {\n",
       "        text-align: right;\n",
       "    }\n",
       "</style>\n",
       "<table border=\"1\" class=\"dataframe\">\n",
       "  <thead>\n",
       "    <tr style=\"text-align: right;\">\n",
       "      <th></th>\n",
       "      <th>title</th>\n",
       "      <th>description</th>\n",
       "      <th>image</th>\n",
       "    </tr>\n",
       "  </thead>\n",
       "  <tbody>\n",
       "    <tr>\n",
       "      <th>0</th>\n",
       "      <td>To Kill a Mockingbird</td>\n",
       "      <td>One of the best-loved stories of all time, To ...</td>\n",
       "      <td>https://covers.openlibrary.org/b/id/12606502-M...</td>\n",
       "    </tr>\n",
       "    <tr>\n",
       "      <th>1</th>\n",
       "      <td>To Kill a Mockingbird</td>\n",
       "      <td>Tom Robinson, Mayella Ewell, Atticus and Scout...</td>\n",
       "      <td>https://covers.openlibrary.org/b/id/8410842-M.jpg</td>\n",
       "    </tr>\n",
       "    <tr>\n",
       "      <th>2</th>\n",
       "      <td>Cliffsnotes to kill a mockingbird</td>\n",
       "      <td></td>\n",
       "      <td>https://covers.openlibrary.org/b/id/7145849-M.jpg</td>\n",
       "    </tr>\n",
       "    <tr>\n",
       "      <th>3</th>\n",
       "      <td>To Kill a Mockingbird</td>\n",
       "      <td></td>\n",
       "      <td>https://covers.openlibrary.org/b/id/4800878-M.jpg</td>\n",
       "    </tr>\n",
       "    <tr>\n",
       "      <th>4</th>\n",
       "      <td>To kill a mockingbird</td>\n",
       "      <td></td>\n",
       "      <td>None</td>\n",
       "    </tr>\n",
       "  </tbody>\n",
       "</table>\n",
       "</div>"
      ],
      "text/plain": [
       "                               title  \\\n",
       "0              To Kill a Mockingbird   \n",
       "1              To Kill a Mockingbird   \n",
       "2  Cliffsnotes to kill a mockingbird   \n",
       "3              To Kill a Mockingbird   \n",
       "4              To kill a mockingbird   \n",
       "\n",
       "                                         description  \\\n",
       "0  One of the best-loved stories of all time, To ...   \n",
       "1  Tom Robinson, Mayella Ewell, Atticus and Scout...   \n",
       "2                                                      \n",
       "3                                                      \n",
       "4                                                      \n",
       "\n",
       "                                               image  \n",
       "0  https://covers.openlibrary.org/b/id/12606502-M...  \n",
       "1  https://covers.openlibrary.org/b/id/8410842-M.jpg  \n",
       "2  https://covers.openlibrary.org/b/id/7145849-M.jpg  \n",
       "3  https://covers.openlibrary.org/b/id/4800878-M.jpg  \n",
       "4                                               None  "
      ]
     },
     "metadata": {},
     "output_type": "display_data"
    },
    {
     "name": "stdout",
     "output_type": "stream",
     "text": [
      "Recommended Books:\n",
      "2. To Kill a Mockingbird\n"
     ]
    },
    {
     "data": {
      "text/html": [
       "<img src=\"https://covers.openlibrary.org/b/id/8410842-M.jpg\" width=\"100\"/>"
      ],
      "text/plain": [
       "<IPython.core.display.Image object>"
      ]
     },
     "metadata": {},
     "output_type": "display_data"
    },
    {
     "name": "stdout",
     "output_type": "stream",
     "text": [
      "11. To kill a mockingbird\n"
     ]
    },
    {
     "data": {
      "text/html": [
       "<img src=\"https://covers.openlibrary.org/b/id/14817246-M.jpg\" width=\"100\"/>"
      ],
      "text/plain": [
       "<IPython.core.display.Image object>"
      ]
     },
     "metadata": {},
     "output_type": "display_data"
    },
    {
     "name": "stdout",
     "output_type": "stream",
     "text": [
      "17. Harper Lee's To kill a mockingbird\n"
     ]
    },
    {
     "data": {
      "text/html": [
       "<img src=\"https://covers.openlibrary.org/b/id/601902-M.jpg\" width=\"100\"/>"
      ],
      "text/plain": [
       "<IPython.core.display.Image object>"
      ]
     },
     "metadata": {},
     "output_type": "display_data"
    },
    {
     "name": "stdout",
     "output_type": "stream",
     "text": [
      "3. Cliffsnotes to kill a mockingbird\n"
     ]
    },
    {
     "data": {
      "text/html": [
       "<img src=\"https://covers.openlibrary.org/b/id/7145849-M.jpg\" width=\"100\"/>"
      ],
      "text/plain": [
       "<IPython.core.display.Image object>"
      ]
     },
     "metadata": {},
     "output_type": "display_data"
    },
    {
     "name": "stdout",
     "output_type": "stream",
     "text": [
      "4. To Kill a Mockingbird\n"
     ]
    },
    {
     "data": {
      "text/html": [
       "<img src=\"https://covers.openlibrary.org/b/id/4800878-M.jpg\" width=\"100\"/>"
      ],
      "text/plain": [
       "<IPython.core.display.Image object>"
      ]
     },
     "metadata": {},
     "output_type": "display_data"
    },
    {
     "name": "stdout",
     "output_type": "stream",
     "text": [
      "5. To kill a mockingbird\n",
      "No image available\n",
      "6. To Kill A Mockingbird [SparkNotes]\n"
     ]
    },
    {
     "data": {
      "text/html": [
       "<img src=\"https://covers.openlibrary.org/b/id/10207621-M.jpg\" width=\"100\"/>"
      ],
      "text/plain": [
       "<IPython.core.display.Image object>"
      ]
     },
     "metadata": {},
     "output_type": "display_data"
    },
    {
     "name": "stdout",
     "output_type": "stream",
     "text": [
      "7. To kill a mockingbird\n"
     ]
    },
    {
     "data": {
      "text/html": [
       "<img src=\"https://covers.openlibrary.org/b/id/6570337-M.jpg\" width=\"100\"/>"
      ],
      "text/plain": [
       "<IPython.core.display.Image object>"
      ]
     },
     "metadata": {},
     "output_type": "display_data"
    },
    {
     "name": "stdout",
     "output_type": "stream",
     "text": [
      "8. To Kill a Mockingbird\n"
     ]
    },
    {
     "data": {
      "text/html": [
       "<img src=\"https://covers.openlibrary.org/b/id/4739070-M.jpg\" width=\"100\"/>"
      ],
      "text/plain": [
       "<IPython.core.display.Image object>"
      ]
     },
     "metadata": {},
     "output_type": "display_data"
    },
    {
     "name": "stdout",
     "output_type": "stream",
     "text": [
      "9. To kill a mockingbird\n",
      "No image available\n"
     ]
    }
   ],
   "source": [
    "import pandas as pd\n",
    "import requests\n",
    "from sklearn.feature_extraction.text import TfidfVectorizer\n",
    "from sklearn.metrics.pairwise import cosine_similarity\n",
    "from IPython.display import display, Image\n",
    "\n",
    "def fetch_books(query, max_results=40):\n",
    "    search_url = f\"https://openlibrary.org/search.json?q={query}&limit={max_results}\"\n",
    "    response = requests.get(search_url)\n",
    "    \n",
    "    if response.status_code != 200:\n",
    "        print(\"Failed to fetch data from Open Library API.\")\n",
    "        return None\n",
    "    \n",
    "    data = response.json()\n",
    "    books = []\n",
    "    \n",
    "    for doc in data.get('docs', []):\n",
    "        title = doc.get('title', 'Unknown Title')\n",
    "        cover_id = doc.get('cover_i')\n",
    "        image = f\"https://covers.openlibrary.org/b/id/{cover_id}-M.jpg\" if cover_id else None\n",
    "        key = doc.get('key', '')\n",
    "        \n",
    "        description = ''\n",
    "        if key:\n",
    "            works_url = f\"https://openlibrary.org{key}.json\"\n",
    "            works_response = requests.get(works_url)\n",
    "            if works_response.status_code == 200:\n",
    "                works_data = works_response.json()\n",
    "                description = works_data.get('description', '')\n",
    "                if isinstance(description, dict):\n",
    "                    description = description.get('value', '')\n",
    "\n",
    "        books.append({\n",
    "            'title': title,\n",
    "            'description': description,\n",
    "            'image': image\n",
    "        })\n",
    "    \n",
    "    return pd.DataFrame(books)\n",
    "\n",
    "def get_recommendations(book_title, books_df):\n",
    "    if book_title not in books_df['title'].values:\n",
    "        return \"Book title not found in the dataset\"\n",
    "    \n",
    "    books_df['description'] = books_df['description'].fillna('')\n",
    "    \n",
    "    tfidf = TfidfVectorizer(stop_words='english')\n",
    "    tfidf_matrix = tfidf.fit_transform(books_df['description'])\n",
    "    \n",
    "    cosine_sim = cosine_similarity(tfidf_matrix, tfidf_matrix)\n",
    "    \n",
    "    idx = books_df[books_df['title'] == book_title].index[0]\n",
    "    \n",
    "    sim_scores = list(enumerate(cosine_sim[idx]))\n",
    "    sim_scores = sorted(sim_scores, key=lambda x: x[1], reverse=True)\n",
    "    sim_scores = sim_scores[1:11]\n",
    "    \n",
    "    book_indices = [i[0] for i in sim_scores]\n",
    "    \n",
    "    return books_df.iloc[book_indices][['title', 'image']]\n",
    "\n",
    "query = \"To Kill a Mockingbird\"\n",
    "books_df = fetch_books(query)\n",
    "if books_df is not None:\n",
    "    display(books_df.head())\n",
    "\n",
    "if books_df is not None:\n",
    "    book_title = \"To Kill a Mockingbird\"\n",
    "    recommended_books = get_recommendations(book_title, books_df)\n",
    "    \n",
    "    if isinstance(recommended_books, str):\n",
    "        print(recommended_books)\n",
    "    else:\n",
    "        print(\"Recommended Books:\")\n",
    "        for i, row in recommended_books.iterrows():\n",
    "            print(f\"{i+1}. {row['title']}\")\n",
    "            if row['image']:\n",
    "                display(Image(url=row['image'], width=100))\n",
    "            else:\n",
    "                print(\"No image available\")"
   ]
  }
 ],
 "metadata": {
  "kernelspec": {
   "display_name": "env",
   "language": "python",
   "name": "python3"
  },
  "language_info": {
   "codemirror_mode": {
    "name": "ipython",
    "version": 3
   },
   "file_extension": ".py",
   "mimetype": "text/x-python",
   "name": "python",
   "nbconvert_exporter": "python",
   "pygments_lexer": "ipython3",
   "version": "3.13.2"
  }
 },
 "nbformat": 4,
 "nbformat_minor": 2
}
